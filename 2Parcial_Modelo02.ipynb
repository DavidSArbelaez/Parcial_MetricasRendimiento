{
 "cells": [
  {
   "cell_type": "markdown",
   "metadata": {},
   "source": [
    "![](./img/logo.png)"
   ]
  },
  {
   "cell_type": "markdown",
   "metadata": {},
   "source": [
    "# 2do Parcial: Análisis Exploratorio de Datos. \n",
    "\n",
    "### Nombre de los Estudiantes:\n",
    "    * David Steven Arbeláez Chávez\n",
    "    * David Rodriguez\n",
    "### Cédula de Ciudadanía:  \n",
    "    * 1000 253 275\n",
    "# Objetivo:\n",
    "\n",
    "En este cuaderno se busca realizar una serie de ejercicios\n",
    "\n"
   ]
  },
  {
   "cell_type": "markdown",
   "metadata": {},
   "source": [
    "# Modelo **02**\n",
    "\n",
    "### Descripción de Valores:\n",
    "\n",
    "    join_date: fecha año-mes-dia hora:minuto:segundo.\n",
    "    group: houston machine learning, houstonr, houston data science,\n",
    "           houston energy data science, houston data visualization.\n",
    "    city:  Houston, Katy, Orizaba, Spring, Cold Spring Harbor,\n",
    "           Kenmore, Sugar Land, Colorado Springs, Pearland, Austin, ....\n",
    "    state: TX, NY, WA, CO, MD, CA, LA, GA, MO, NC, FL, NH,\n",
    "           MA, PA, KY, NE, IL, MN, TN, IN, OH, F2, NJ, NS, \n",
    "           VA, MI, 18, AR, AL, OR, DE, 17, ON, SC, BC, V5,\n",
    "           WI, AB, DC, AK, UT, OK, AZ, MS, CT, IA.\n",
    "    country: us, mx, il, be, cn, jp, gr, in, fr, my, de,\n",
    "             ye, np, no, au, gb, dz, co, tw, br, ie, pk,\n",
    "             ca, hk, nl, ng, ae, sg, eg, ir, es, nz, se,\n",
    "             za, cz, th, ch, by, pe, fi, kr, si, ph.\n",
    "         \n",
    "    "
   ]
  },
  {
   "cell_type": "markdown",
   "metadata": {},
   "source": [
    "## 0.- Bibliotecas y Lectura del dataframe"
   ]
  },
  {
   "cell_type": "code",
   "execution_count": 2,
   "metadata": {},
   "outputs": [],
   "source": [
    "import pandas as pd \n",
    "import numpy as np\n",
    "import seaborn as sns\n",
    "import matplotlib.pyplot as plt\n",
    "from pandas import get_dummies"
   ]
  },
  {
   "cell_type": "markdown",
   "metadata": {},
   "source": [
    "### _Se importa el data frame_ `meetup_groups `"
   ]
  },
  {
   "cell_type": "code",
   "execution_count": 3,
   "metadata": {},
   "outputs": [],
   "source": [
    "df_meetup = pd.read_csv(\"https://raw.githubusercontent.com/DavidSArbelaez/Parcial_MetricasRendimiento/main/data/meetup_groups.csv\")"
   ]
  },
  {
   "cell_type": "markdown",
   "metadata": {},
   "source": [
    "## 1.- Identificación de datos perdidos (NaN)\n",
    "    - Bonus --> ¿Cuantas Filas se han eliminado después de la limpieza?"
   ]
  },
  {
   "cell_type": "markdown",
   "metadata": {},
   "source": [
    "### **Se identifica las columnas del dataframe**"
   ]
  },
  {
   "cell_type": "code",
   "execution_count": 4,
   "metadata": {},
   "outputs": [
    {
     "name": "stdout",
     "output_type": "stream",
     "text": [
      "<class 'pandas.core.frame.DataFrame'>\n",
      "RangeIndex: 7671 entries, 0 to 7670\n",
      "Data columns (total 5 columns):\n",
      " #   Column     Non-Null Count  Dtype \n",
      "---  ------     --------------  ----- \n",
      " 0   join_date  7671 non-null   object\n",
      " 1   group      7671 non-null   object\n",
      " 2   city       7671 non-null   object\n",
      " 3   state      7527 non-null   object\n",
      " 4   country    7671 non-null   object\n",
      "dtypes: object(5)\n",
      "memory usage: 299.8+ KB\n"
     ]
    }
   ],
   "source": [
    "df_meetup.info()"
   ]
  },
  {
   "cell_type": "markdown",
   "metadata": {},
   "source": [
    "__Se muestran los valores unicos para identificar si hay valores nulos__"
   ]
  },
  {
   "cell_type": "code",
   "execution_count": 143,
   "metadata": {},
   "outputs": [
    {
     "name": "stdout",
     "output_type": "stream",
     "text": [
      "Valores unicos de la columna join_date : \n",
      "    ['2016-11-18 02:41:29' '2017-05-09 14:16:37' '2016-12-30 02:34:16' ...\n",
      " '2015-10-05 17:08:40' '2016-11-04 22:36:24' '2016-08-02 17:47:29']\n",
      "***********************************************************************\n",
      "Valores unicos de la columna group : \n",
      "    ['houston machine learning' 'houstonr' 'houston data science'\n",
      " 'houston energy data science ' 'houston data visualization ']\n",
      "***********************************************************************\n",
      "Valores unicos de la columna city : \n",
      "    ['Houston' 'Katy' 'Orizaba' 'Spring' 'Cold Spring Harbor' 'Kenmore'\n",
      " 'Sugar Land' 'Colorado Springs' 'Pearland' 'Austin' 'Tel Aviv-Yafo'\n",
      " 'Baltimore' 'Garza García' 'Arlington' 'San Francisco' 'San Jose'\n",
      " 'League City' 'Cypress' 'Stafford' 'Dallas' 'Friendswood' 'Lawtell'\n",
      " 'Statesboro' 'North Houston' 'Brussels' 'Tomball' 'Beaumont' 'Bellaire'\n",
      " 'Humble' 'Richmond' 'Port Lavaca' 'Montgomery' 'Rolla' 'Los Angeles'\n",
      " 'Alameda' 'San Antonio' 'Bellevue' 'Durham' 'College Station' 'Athens'\n",
      " 'Beijing' 'Hamakita' 'Vólos' 'Fort Worth' 'Kapra' 'Paris' 'Galveston'\n",
      " 'Seattle' 'Orlando' 'Lafayette' 'Long Island City' 'Petaling Jaya'\n",
      " 'Conroe' 'Delhi' 'Helotes' 'Amherst' 'Seabrook' 'Berlin' 'New York'\n",
      " 'Missouri City' 'Texas City' 'Pittsburgh' 'Ramat Gan' 'Bowling Green'\n",
      " 'Cambridge' 'Hyderabad' 'Webster' 'Lathrop' 'Lincoln' 'Richardson'\n",
      " 'Angleton' 'Pleasant Hill' 'South Houston' 'Santa Fe' 'Santa Monica'\n",
      " 'Bangalore' 'Fremont' 'Raleigh' 'Round Rock' 'Magnolia' 'Chicago' '´Adan'\n",
      " 'Minneapolis' 'Englewood' 'Manvel' 'Fresno' 'Kathmandu' 'Atlanta'\n",
      " 'Jupiter' 'Kansas City' 'Somerville' 'Deer Park' 'Chattanooga'\n",
      " 'West Lafayette' 'Boulder' 'Lewisville' 'Huntington Beach' 'McKinney'\n",
      " 'Cleveland' 'Alief' 'Tromsø' 'Seguin' 'Dripping Springs' 'Gainesville'\n",
      " 'Chevy Chase' 'Chennai' 'Redmond' 'Melbourne' 'Sydney' 'Kingwood'\n",
      " 'Winchester' 'Fulshear' 'Monroe Township' 'Denver' 'Suffolk' 'Boston'\n",
      " 'Baton Rouge' 'Vadodara' 'al-Jaza´ir' 'Antioquia' 'Haslet' 'Sunnyvale'\n",
      " 'Ann Arbor' 'Baytown' 'Manchester' 'Bentonville' 'Little Rock' 'Victoria'\n",
      " 'San Diego' 'Oakmont' 'Mountain View' 'San Marcos' 'Huntsville' 'Taipei'\n",
      " 'Portland' 'Arlington Heights' 'Newark' 'Chapel Hill' 'Pasadena' 'Lyon'\n",
      " 'London' 'Waco' 'Florianópolis' 'Medford' 'Sherman Oaks' 'Eaton' 'Irvine'\n",
      " 'Morrisville' 'Dublin' 'La Porte' 'Pune' 'Islamabad' 'Mississauga'\n",
      " 'Walnut Creek' 'Winston Salem' 'Southlake' 'Charlotte' 'Channelview'\n",
      " 'Kemah' 'Mc Lean' 'El Paso' 'Hockley' 'Long Beach' 'Hong Kong' 'Plano'\n",
      " 'Addison' 'West Columbia' 'Tampa' 'Utrecht' 'Palo Alto' 'Santa Clara'\n",
      " 'Lagos' 'Hazelwood' 'Brisbane' 'Vancouver' 'Madison' 'Toronto'\n",
      " 'Fort Collins' 'Dubai' 'North Richland Hills' 'Urbana' 'Singapore'\n",
      " 'Waltham' 'Brooklyn' 'Crosby' 'Barker' 'Bear' 'Hufsmith' 'New Caney'\n",
      " 'Whippany' 'Cincinnati' 'Liberty' 'Darmstadt' 'Bainbridge Island' 'Alvin'\n",
      " 'Pleasanton' 'Redlands' 'Calgary' 'Washington' 'Lubbock' 'Fortaleza'\n",
      " 'Anchorage' 'San Ramon' 'Petaluma' 'Lehi' 'Silver Spring' 'Quincy'\n",
      " 'South Jordan' 'Alexandria' 'Tyler' 'Navasota' 'Haifa' 'Needville'\n",
      " 'Tehran' 'Rohnert Park' 'Barcelona' 'Porter' 'Edmond' 'Highlands'\n",
      " 'Irving' 'Bogotá' 'Carmel' 'Georgetown' 'Wellington' 'Lake Mary' 'Madrid'\n",
      " 'Longwood' 'Stockholm' 'North York' 'Grand Blanc' 'Philadelphia' 'Mumbai'\n",
      " 'Sussex' 'Beasley' 'Suwanee' 'Tempe' 'Issaquah' 'Wixom' 'Edmonton'\n",
      " 'South Bend' 'Herrin' 'México City' 'Beaufort-West' 'Hilliard' 'Fontana'\n",
      " 'Evansville' 'Auckland' 'Fairfax' 'Bryan' 'Haverhill' 'Belden'\n",
      " 'Cape Town' 'Patterson' 'Allen' 'Prague' 'Columbia' 'Tulsa' 'Renton'\n",
      " 'Plymouth Meeting' 'Downingtown' 'Ottawa' 'Abbeville' 'Stamford' 'Frisco'\n",
      " 'Cairo' 'Flower Mound' 'Allentown' 'Bangkok' 'Rio de Janeiro' 'Brenham'\n",
      " 'Perth' 'Xenia' 'Oklahoma City' 'Fort Davis' 'Redwood City' 'Dickinson'\n",
      " 'West Chester' 'Genève' 'Cedar Rapids' 'Glen Flora' 'Minsk' 'Owasso'\n",
      " 'Coacalco' 'Hsinchu' 'Franklin' 'Edinburgh' 'Winnetka' 'New Orleans'\n",
      " 'Stillwater' 'Swannanoa' 'Lima' 'Princeton' 'Port Arthur' 'Helsinki'\n",
      " 'Galena Park' 'Brookshire' 'Evergreen' 'Odessa' 'Boca Raton' 'Lebanon'\n",
      " 'Seoul' 'Tracy' 'Newburgh' 'Reseda' 'Longview' 'Manakin Sabot' 'Edgware'\n",
      " 'Carrollton' 'Stanford' 'Amsterdam' 'Mahone Bay' 'Celje' 'Floral Park'\n",
      " 'Bacoor' 'Puerto Vallarta' 'Phoenix']\n",
      "***********************************************************************\n",
      "Valores unicos de la columna state : \n",
      "    ['TX' nan 'NY' 'WA' 'CO' 'MD' 'CA' 'LA' 'GA' 'MO' 'NC' 'FL' 'MA' 'PA' 'KY'\n",
      " 'NE' 'IL' 'MN' 'TN' 'IN' 'OH' 'F2' 'NJ' 'VA' 'MI' '18' 'AR' 'AL' 'OR'\n",
      " 'DE' '17' 'ON' 'SC' 'BC' 'WI' 'AB' 'DC' 'AK' 'UT' 'OK' 'AZ' 'MS' 'CT'\n",
      " 'IA' 'V5' 'NH' 'NS']\n",
      "***********************************************************************\n",
      "Valores unicos de la columna country : \n",
      "    ['us' 'mx' 'il' 'be' 'cn' 'jp' 'gr' 'in' 'fr' 'my' 'de' 'ye' 'np' 'no'\n",
      " 'au' 'gb' 'dz' 'co' 'tw' 'br' 'ie' 'pk' 'ca' 'hk' 'nl' 'ng' 'ae' 'sg'\n",
      " 'eg' 'ir' 'es' 'nz' 'se' 'za' 'cz' 'th' 'ch' 'by' 'pe' 'fi' 'kr' 'si'\n",
      " 'ph']\n",
      "***********************************************************************\n"
     ]
    }
   ],
   "source": [
    "column_headers = list(df_meetup.columns.values)\n",
    "for i in column_headers:\n",
    "    \n",
    "    a=str(i)\n",
    "    print(f'Valores unicos de la columna {a} : \\n    { (df_meetup[a].unique())}')\n",
    "    print(\"***********************************************************************\")\n",
    "#df_meetup['state'].unique()\n"
   ]
  },
  {
   "cell_type": "markdown",
   "metadata": {},
   "source": [
    "Se suma los nulos para poder identificarlos bien"
   ]
  },
  {
   "cell_type": "code",
   "execution_count": 144,
   "metadata": {},
   "outputs": [
    {
     "data": {
      "text/plain": [
       "join_date      0\n",
       "group          0\n",
       "city           0\n",
       "state        144\n",
       "country        0\n",
       "dtype: int64"
      ]
     },
     "execution_count": 144,
     "metadata": {},
     "output_type": "execute_result"
    }
   ],
   "source": [
    "df_meetup.isnull().sum()"
   ]
  },
  {
   "cell_type": "markdown",
   "metadata": {},
   "source": [
    "Tras realizar esta consulta de los datos unicos y tras revisar la información del data frame se puede afirmar el conjunto de datos tiene **datos Perdidos** en la columna `state` cuenta que con menos datos (los cuales fueron remplazados por datos nulos) que el resto de columnas, 144 datos menos.\n",
    "\n",
    "Por lo que se va a quitar ese numero de columnas del resto de las columnas"
   ]
  },
  {
   "cell_type": "code",
   "execution_count": 145,
   "metadata": {},
   "outputs": [
    {
     "name": "stdout",
     "output_type": "stream",
     "text": [
      "<class 'pandas.core.frame.DataFrame'>\n",
      "Int64Index: 7527 entries, 0 to 7670\n",
      "Data columns (total 5 columns):\n",
      " #   Column     Non-Null Count  Dtype \n",
      "---  ------     --------------  ----- \n",
      " 0   join_date  7527 non-null   object\n",
      " 1   group      7527 non-null   object\n",
      " 2   city       7527 non-null   object\n",
      " 3   state      7527 non-null   object\n",
      " 4   country    7527 non-null   object\n",
      "dtypes: object(5)\n",
      "memory usage: 352.8+ KB\n"
     ]
    }
   ],
   "source": [
    "#Se eliminan los datos nulos\n",
    "df_meetup = df_meetup.dropna()\n",
    "\n",
    "#Se verfica la informacion\n",
    "df_meetup.info()"
   ]
  },
  {
   "cell_type": "code",
   "execution_count": 146,
   "metadata": {},
   "outputs": [
    {
     "data": {
      "text/plain": [
       "join_date    0\n",
       "group        0\n",
       "city         0\n",
       "state        0\n",
       "country      0\n",
       "dtype: int64"
      ]
     },
     "execution_count": 146,
     "metadata": {},
     "output_type": "execute_result"
    }
   ],
   "source": [
    "#Se verifica que se hayan quitado los datos nulos\n",
    "df_meetup.isnull().sum()"
   ]
  },
  {
   "cell_type": "markdown",
   "metadata": {},
   "source": [
    "### Bonus\n",
    "\n",
    "Se eliminaron 144 filas, debido a los datos nulos en la columna `state`"
   ]
  },
  {
   "cell_type": "markdown",
   "metadata": {},
   "source": [
    "## 2.- ¿Cuantas reuniones por grupo se registraron en el DataFrame? \n",
    "    - 3. Haga un gráfico (Pastel) de reuniones por grupo en el DataFrame"
   ]
  },
  {
   "cell_type": "markdown",
   "metadata": {},
   "source": [
    "<img src=\"./img/grupos-meetings.png\" style=\"width:250px\">"
   ]
  },
  {
   "cell_type": "code",
   "execution_count": 147,
   "metadata": {},
   "outputs": [
    {
     "data": {
      "text/plain": [
       "group\n",
       "houston data science            2150\n",
       "houston data visualization      1709\n",
       "houston energy data science     1891\n",
       "houston machine learning         740\n",
       "houstonr                        1037\n",
       "dtype: int64"
      ]
     },
     "execution_count": 147,
     "metadata": {},
     "output_type": "execute_result"
    }
   ],
   "source": [
    "df_meetup.groupby('group').size()"
   ]
  },
  {
   "cell_type": "markdown",
   "metadata": {},
   "source": [
    "Se identifica que hubieron estas cantidades de reuniones en el dataframe :\n",
    "- 2150 reuniones de `houston data science`\n",
    "- 1709 reuniones de `houston data visualization `\n",
    "- 1891 reuniones de `houston energy data science `\n",
    "- 740 reuniones de `houston machine learning`\n",
    "- 1037 reuniones de `houstonr`"
   ]
  },
  {
   "cell_type": "code",
   "execution_count": 148,
   "metadata": {},
   "outputs": [
    {
     "data": {
      "image/png": "[encoded data removed]",
      "text/plain": [
       "<Figure size 640x480 with 1 Axes>"
      ]
     },
     "metadata": {},
     "output_type": "display_data"
    }
   ],
   "source": [
    "df_meetup.groupby('group').size().plot(y=df_meetup['group'].unique(),kind='pie',startangle=140,autopct='%1.1f%%', title='Reuniones por grupo')\n",
    "plt.show()"
   ]
  },
  {
   "cell_type": "markdown",
   "metadata": {},
   "source": [
    "### Conclusiones sobre el grafico\n",
    "\n",
    "- Se realizaron mas reuniones en el grupo de `houston data science` con un 28.6% sobre el total de reuniones\n",
    "- El grupo de `houston machine learning` fue en el que se realizaron menos reuniones con un 9.8%\n",
    "- "
   ]
  },
  {
   "cell_type": "markdown",
   "metadata": {},
   "source": [
    "## 3.-  ¿Cuál es la proporción de reuniones en la ciudad Houston?"
   ]
  },
  {
   "cell_type": "code",
   "execution_count": 149,
   "metadata": {},
   "outputs": [
    {
     "data": {
      "image/png": "[encoded data removed]",
      "text/plain": [
       "<Figure size 640x480 with 1 Axes>"
      ]
     },
     "metadata": {},
     "output_type": "display_data"
    }
   ],
   "source": [
    "filtro = (df_meetup['city']==\"Houston\")\n",
    "df_meetup[filtro].groupby('group').size().plot(\n",
    "    y=df_meetup['group'].unique(),kind='pie',startangle=140,autopct='%1.1f%%', \n",
    "    title='Proporción de reuniones en la ciudad Houston')\n",
    "plt.show()"
   ]
  },
  {
   "cell_type": "markdown",
   "metadata": {},
   "source": [
    "La ciudad de Houston tiene la siguiente proporción para cada grupo de reunión:\n",
    "- 1628 reuniones de `houston data science` y tiene un 29.3% del total de reuniones del dataframe\n",
    "- 1264 reuniones de `houston data visualization ` y tiene un 22.7%\n",
    "- 1320 reuniones de `houston energy data science `y tiene un 23.7%\n",
    "- 572 reuniones de `houston machine learning` y tiene un 10.3%\n",
    "- 776 reuniones de `houstonr` y tiene un 14%"
   ]
  },
  {
   "cell_type": "markdown",
   "metadata": {},
   "source": [
    "## 4.- Cuáles son las 10 ciudades más usadas en USA para reuniones de los grupos:\n",
    "    - 'houston machine learning ' y 'houstonr'"
   ]
  },
  {
   "cell_type": "code",
   "execution_count": 150,
   "metadata": {},
   "outputs": [
    {
     "data": {
      "text/plain": [
       "city\n",
       "Houston          1348\n",
       "Katy               49\n",
       "Spring             42\n",
       "Sugar Land         32\n",
       "Austin             25\n",
       "Cypress            21\n",
       "Pearland           16\n",
       "Humble             14\n",
       "League City        11\n",
       "San Francisco      11\n",
       "dtype: int64"
      ]
     },
     "execution_count": 150,
     "metadata": {},
     "output_type": "execute_result"
    }
   ],
   "source": [
    "filtro = ((df_meetup['group']==\"houston machine learning\") | (df_meetup['group']==\"houstonr\")) & (df_meetup['country']=='us')\n",
    "df_max=df_meetup[filtro].groupby('city').size().sort_values(ascending=False)\n",
    "df_max.head(10)"
   ]
  },
  {
   "cell_type": "markdown",
   "metadata": {},
   "source": [
    "Las 10 ciudades mas usadas en USA para reuniones de los grupos `houston machine learning` y `houstonr` son:\n",
    "- `Houston` con una cantidad de **1348** reuniones\n",
    "- `Katy` con una cantidad de **49** reuniones\n",
    "- `Spring` con una cantidad de **42** reuniones\n",
    "- `Sugar Land` con una cantidad de **32** reuniones\n",
    "- `Austin` con una cantidad de **25** reuniones\n",
    "- `Cypress` con una cantidad de **21** reuniones\n",
    "- `Pearland` con una cantidad de **16** reuniones\n",
    "- `Humble` con una cantidad de **14** reuniones\n",
    "- `San Francisco` con una cantidad de **11** reuniones\n",
    "- `League City` con una cantidad de **11** reuniones"
   ]
  },
  {
   "cell_type": "markdown",
   "metadata": {},
   "source": [
    "## 5.- Cuáles son las ciudades más usadas para reuniones fuera del USA por:\n",
    "    -  'houston machine learning' y 'houstonr'"
   ]
  },
  {
   "cell_type": "code",
   "execution_count": 151,
   "metadata": {},
   "outputs": [
    {
     "data": {
      "text/plain": [
       "city\n",
       "London         2\n",
       "Manchester     1\n",
       "Mississauga    1\n",
       "Winchester     1\n",
       "dtype: int64"
      ]
     },
     "execution_count": 151,
     "metadata": {},
     "output_type": "execute_result"
    }
   ],
   "source": [
    "filtro = ((df_meetup['group']==\"houston machine learning\") | (df_meetup['group']==\"houstonr\")) & (df_meetup['country']!='us')\n",
    "df_max=df_meetup[filtro].groupby('city').size().sort_values(ascending=False)\n",
    "df_max"
   ]
  },
  {
   "cell_type": "markdown",
   "metadata": {},
   "source": [
    "Las ciudades mas usadas por fuera de USA para reuniones de los grupos `houston machine learning` y `houstonr` son:\n",
    "- `London` con una cantidad de **2** reuniones\n",
    "- `Manchester` con una cantidad de **1** reuniones\n",
    "- `Mississauga` con una cantidad de **1** reuniones\n",
    "- `Winchester` con una cantidad de **1** reuniones"
   ]
  },
  {
   "cell_type": "markdown",
   "metadata": {},
   "source": [
    "## 6.- El  grupo 'houston data visualization' cuando hace reuniones en USA:\n",
    "    - ¿Es cierto que la segunda ciudad en donde hacen más reuniones es Austin?"
   ]
  },
  {
   "cell_type": "code",
   "execution_count": 179,
   "metadata": {},
   "outputs": [
    {
     "data": {
      "text/plain": [
       "city\n",
       "Houston        1264\n",
       "Spring           53\n",
       "Sugar Land       36\n",
       "Katy             35\n",
       "Austin           27\n",
       "               ... \n",
       "Galena Park       1\n",
       "Gainesville       1\n",
       "Franklin          1\n",
       "Fort Worth        1\n",
       "Winnetka          1\n",
       "Length: 116, dtype: int64"
      ]
     },
     "execution_count": 179,
     "metadata": {},
     "output_type": "execute_result"
    }
   ],
   "source": [
    "houston=df_meetup.groupby('group').size().index[1]\n",
    "filtro = ((df_meetup['group']==houston)) & (df_meetup['country']=='us')\n",
    "df_max=df_meetup[filtro].groupby('city').size().sort_values(ascending=False)\n",
    "df_max"
   ]
  },
  {
   "cell_type": "markdown",
   "metadata": {},
   "source": [
    "La ciudad que mas reuniones de `houston data visualization` tiene es **Houston** y **Austin** es la cuarta"
   ]
  },
  {
   "cell_type": "markdown",
   "metadata": {},
   "source": [
    "## 7.- ¿Cuál fue el mes que más reuniones tuvo el grupo 'houstonr' en el año 2016?\n",
    "\n",
    "        - Agregar columna 'month' y 'year'"
   ]
  },
  {
   "cell_type": "markdown",
   "metadata": {},
   "source": [
    "<img src=\"./img/graf02.png\">"
   ]
  },
  {
   "cell_type": "code",
   "execution_count": null,
   "metadata": {},
   "outputs": [],
   "source": []
  },
  {
   "cell_type": "code",
   "execution_count": null,
   "metadata": {},
   "outputs": [],
   "source": []
  },
  {
   "cell_type": "code",
   "execution_count": null,
   "metadata": {},
   "outputs": [],
   "source": []
  },
  {
   "cell_type": "markdown",
   "metadata": {},
   "source": [
    "## 8.- ¿Cuantas reuniones por año se registraron en el DataFrame?"
   ]
  },
  {
   "cell_type": "code",
   "execution_count": null,
   "metadata": {},
   "outputs": [],
   "source": []
  },
  {
   "cell_type": "code",
   "execution_count": null,
   "metadata": {},
   "outputs": [],
   "source": []
  },
  {
   "cell_type": "code",
   "execution_count": null,
   "metadata": {},
   "outputs": [],
   "source": []
  },
  {
   "cell_type": "markdown",
   "metadata": {},
   "source": [
    "## 9.- ¿Cuantas veces por año se han reunido los grupos ('houston data science', 'houston machine learning') fuera de USA en el dataframe?"
   ]
  },
  {
   "cell_type": "code",
   "execution_count": null,
   "metadata": {},
   "outputs": [],
   "source": []
  },
  {
   "cell_type": "code",
   "execution_count": null,
   "metadata": {},
   "outputs": [],
   "source": []
  },
  {
   "cell_type": "code",
   "execution_count": null,
   "metadata": {},
   "outputs": [],
   "source": []
  }
 ],
 "metadata": {
  "kernelspec": {
   "display_name": "Python 3.10.4 64-bit",
   "language": "python",
   "name": "python3"
  },
  "language_info": {
   "codemirror_mode": {
    "name": "ipython",
    "version": 3
   },
   "file_extension": ".py",
   "mimetype": "text/x-python",
   "name": "python",
   "nbconvert_exporter": "python",
   "pygments_lexer": "ipython3",
   "version": "3.10.4"
  },
  "vscode": {
   "interpreter": {
    "hash": "31f2aee4e71d21fbe5cf8b01ff0e069b9275f58929596ceb00d14d90e3e16cd6"
   }
  }
 },
 "nbformat": 4,
 "nbformat_minor": 2
}
