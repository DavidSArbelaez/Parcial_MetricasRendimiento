{
 "cells": [
  {
   "cell_type": "markdown",
   "metadata": {},
   "source": [
    "![](./img/logo.png)"
   ]
  },
  {
   "cell_type": "markdown",
   "metadata": {},
   "source": [
    "# 2do Parcial: Análisis Exploratorio de Datos. \n",
    "\n",
    "### Nombre de los Estudiantes:\n",
    "    * David Steven Arbeláez Chávez\n",
    "    * David Rodriguez\n",
    "### Cédula de Ciudadanía:  \n",
    "    * 1000 253 275"
   ]
  },
  {
   "cell_type": "markdown",
   "metadata": {},
   "source": [
    "# Modelo **02**\n",
    "\n",
    "### Descripción de Valores:\n",
    "\n",
    "    join_date: fecha año-mes-dia hora:minuto:segundo.\n",
    "    group: houston machine learning, houstonr, houston data science,\n",
    "           houston energy data science, houston data visualization.\n",
    "    city:  Houston, Katy, Orizaba, Spring, Cold Spring Harbor,\n",
    "           Kenmore, Sugar Land, Colorado Springs, Pearland, Austin, ....\n",
    "    state: TX, NY, WA, CO, MD, CA, LA, GA, MO, NC, FL, NH,\n",
    "           MA, PA, KY, NE, IL, MN, TN, IN, OH, F2, NJ, NS, \n",
    "           VA, MI, 18, AR, AL, OR, DE, 17, ON, SC, BC, V5,\n",
    "           WI, AB, DC, AK, UT, OK, AZ, MS, CT, IA.\n",
    "    country: us, mx, il, be, cn, jp, gr, in, fr, my, de,\n",
    "             ye, np, no, au, gb, dz, co, tw, br, ie, pk,\n",
    "             ca, hk, nl, ng, ae, sg, eg, ir, es, nz, se,\n",
    "             za, cz, th, ch, by, pe, fi, kr, si, ph.\n",
    "         \n",
    "    "
   ]
  },
  {
   "cell_type": "markdown",
   "metadata": {},
   "source": [
    "## 0.- Bibliotecas y Lectura"
   ]
  },
  {
   "cell_type": "code",
   "execution_count": 2,
   "metadata": {},
   "outputs": [],
   "source": [
    "import pandas as pd \n",
    "import numpy as np\n",
    "import seaborn as sns\n",
    "import matplotlib.pyplot as plt\n",
    "from pandas import get_dummies"
   ]
  },
  {
   "cell_type": "markdown",
   "metadata": {},
   "source": [
    "### _Se importa el data frame_ `meetup_groups `"
   ]
  },
  {
   "cell_type": "code",
   "execution_count": 4,
   "metadata": {},
   "outputs": [],
   "source": [
    "df_meetup = pd.read_csv(\"./data/meetup_groups.csv\")"
   ]
  },
  {
   "cell_type": "markdown",
   "metadata": {},
   "source": [
    "### **Se identifica las columnas del dataframe**"
   ]
  },
  {
   "cell_type": "code",
   "execution_count": 5,
   "metadata": {},
   "outputs": [
    {
     "name": "stdout",
     "output_type": "stream",
     "text": [
      "<class 'pandas.core.frame.DataFrame'>\n",
      "RangeIndex: 7671 entries, 0 to 7670\n",
      "Data columns (total 5 columns):\n",
      " #   Column     Non-Null Count  Dtype \n",
      "---  ------     --------------  ----- \n",
      " 0   join_date  7671 non-null   object\n",
      " 1   group      7671 non-null   object\n",
      " 2   city       7671 non-null   object\n",
      " 3   state      7527 non-null   object\n",
      " 4   country    7671 non-null   object\n",
      "dtypes: object(5)\n",
      "memory usage: 299.8+ KB\n"
     ]
    }
   ],
   "source": [
    "df_meetup.info()"
   ]
  },
  {
   "cell_type": "code",
   "execution_count": 24,
   "metadata": {},
   "outputs": [
    {
     "name": "stdout",
     "output_type": "stream",
     "text": [
      "Valores unicos de la columna join_date : \n",
      "    ['2016-11-18 02:41:29' '2017-05-09 14:16:37' '2016-12-30 02:34:16' ...\n",
      " '2015-10-05 17:08:40' '2016-11-04 22:36:24' '2016-08-02 17:47:29']\n",
      "***********************************************************************\n",
      "Valores unicos de la columna group : \n",
      "    ['houston machine learning' 'houstonr' 'houston data science'\n",
      " 'houston energy data science ' 'houston data visualization ']\n",
      "***********************************************************************\n",
      "Valores unicos de la columna city : \n",
      "    ['Houston' 'Katy' 'Orizaba' 'Spring' 'Cold Spring Harbor' 'Kenmore'\n",
      " 'Sugar Land' 'Colorado Springs' 'Pearland' 'Austin' 'Tel Aviv-Yafo'\n",
      " 'Baltimore' 'Garza García' 'Arlington' 'San Francisco' 'San Jose'\n",
      " 'League City' 'Cypress' 'Stafford' 'Dallas' 'Friendswood' 'Lawtell'\n",
      " 'Statesboro' 'North Houston' 'Brussels' 'Tomball' 'Beaumont' 'Bellaire'\n",
      " 'Humble' 'Richmond' 'Port Lavaca' 'Montgomery' 'Rolla' 'Los Angeles'\n",
      " 'Alameda' 'San Antonio' 'Bellevue' 'Durham' 'College Station' 'Athens'\n",
      " 'Beijing' 'Hamakita' 'Vólos' 'Fort Worth' 'Kapra' 'Paris' 'Galveston'\n",
      " 'Seattle' 'Orlando' 'Lafayette' 'Long Island City' 'Petaling Jaya'\n",
      " 'Conroe' 'Delhi' 'Helotes' 'Amherst' 'Seabrook' 'Berlin' 'New York'\n",
      " 'Missouri City' 'Texas City' 'Pittsburgh' 'Ramat Gan' 'Bowling Green'\n",
      " 'Cambridge' 'Hyderabad' 'Webster' 'Lathrop' 'Lincoln' 'Richardson'\n",
      " 'Angleton' 'Pleasant Hill' 'South Houston' 'Santa Fe' 'Santa Monica'\n",
      " 'Bangalore' 'Fremont' 'Raleigh' 'Round Rock' 'Magnolia' 'Chicago' '´Adan'\n",
      " 'Minneapolis' 'Englewood' 'Manvel' 'Fresno' 'Kathmandu' 'Atlanta'\n",
      " 'Jupiter' 'Kansas City' 'Somerville' 'Deer Park' 'Chattanooga'\n",
      " 'West Lafayette' 'Boulder' 'Lewisville' 'Huntington Beach' 'McKinney'\n",
      " 'Cleveland' 'Alief' 'Tromsø' 'Seguin' 'Dripping Springs' 'Gainesville'\n",
      " 'Chevy Chase' 'Chennai' 'Redmond' 'Melbourne' 'Sydney' 'Kingwood'\n",
      " 'Winchester' 'Fulshear' 'Monroe Township' 'Denver' 'Suffolk' 'Boston'\n",
      " 'Baton Rouge' 'Vadodara' 'al-Jaza´ir' 'Antioquia' 'Haslet' 'Sunnyvale'\n",
      " 'Ann Arbor' 'Baytown' 'Manchester' 'Bentonville' 'Little Rock' 'Victoria'\n",
      " 'San Diego' 'Oakmont' 'Mountain View' 'San Marcos' 'Huntsville' 'Taipei'\n",
      " 'Portland' 'Arlington Heights' 'Newark' 'Chapel Hill' 'Pasadena' 'Lyon'\n",
      " 'London' 'Waco' 'Florianópolis' 'Medford' 'Sherman Oaks' 'Eaton' 'Irvine'\n",
      " 'Morrisville' 'Dublin' 'La Porte' 'Pune' 'Islamabad' 'Mississauga'\n",
      " 'Walnut Creek' 'Winston Salem' 'Southlake' 'Charlotte' 'Channelview'\n",
      " 'Kemah' 'Mc Lean' 'El Paso' 'Hockley' 'Long Beach' 'Hong Kong' 'Plano'\n",
      " 'Addison' 'West Columbia' 'Tampa' 'Utrecht' 'Palo Alto' 'Santa Clara'\n",
      " 'Lagos' 'Hazelwood' 'Brisbane' 'Vancouver' 'Madison' 'Toronto'\n",
      " 'Fort Collins' 'Dubai' 'North Richland Hills' 'Urbana' 'Singapore'\n",
      " 'Waltham' 'Brooklyn' 'Crosby' 'Barker' 'Bear' 'Hufsmith' 'New Caney'\n",
      " 'Whippany' 'Cincinnati' 'Liberty' 'Darmstadt' 'Bainbridge Island' 'Alvin'\n",
      " 'Pleasanton' 'Redlands' 'Calgary' 'Washington' 'Lubbock' 'Fortaleza'\n",
      " 'Anchorage' 'San Ramon' 'Petaluma' 'Lehi' 'Silver Spring' 'Quincy'\n",
      " 'South Jordan' 'Alexandria' 'Tyler' 'Navasota' 'Haifa' 'Needville'\n",
      " 'Tehran' 'Rohnert Park' 'Barcelona' 'Porter' 'Edmond' 'Highlands'\n",
      " 'Irving' 'Bogotá' 'Carmel' 'Georgetown' 'Wellington' 'Lake Mary' 'Madrid'\n",
      " 'Longwood' 'Stockholm' 'North York' 'Grand Blanc' 'Philadelphia' 'Mumbai'\n",
      " 'Sussex' 'Beasley' 'Suwanee' 'Tempe' 'Issaquah' 'Wixom' 'Edmonton'\n",
      " 'South Bend' 'Herrin' 'México City' 'Beaufort-West' 'Hilliard' 'Fontana'\n",
      " 'Evansville' 'Auckland' 'Fairfax' 'Bryan' 'Haverhill' 'Belden'\n",
      " 'Cape Town' 'Patterson' 'Allen' 'Prague' 'Columbia' 'Tulsa' 'Renton'\n",
      " 'Plymouth Meeting' 'Downingtown' 'Ottawa' 'Abbeville' 'Stamford' 'Frisco'\n",
      " 'Cairo' 'Flower Mound' 'Allentown' 'Bangkok' 'Rio de Janeiro' 'Brenham'\n",
      " 'Perth' 'Xenia' 'Oklahoma City' 'Fort Davis' 'Redwood City' 'Dickinson'\n",
      " 'West Chester' 'Genève' 'Cedar Rapids' 'Glen Flora' 'Minsk' 'Owasso'\n",
      " 'Coacalco' 'Hsinchu' 'Franklin' 'Edinburgh' 'Winnetka' 'New Orleans'\n",
      " 'Stillwater' 'Swannanoa' 'Lima' 'Princeton' 'Port Arthur' 'Helsinki'\n",
      " 'Galena Park' 'Brookshire' 'Evergreen' 'Odessa' 'Boca Raton' 'Lebanon'\n",
      " 'Seoul' 'Tracy' 'Newburgh' 'Reseda' 'Longview' 'Manakin Sabot' 'Edgware'\n",
      " 'Carrollton' 'Stanford' 'Amsterdam' 'Mahone Bay' 'Celje' 'Floral Park'\n",
      " 'Bacoor' 'Puerto Vallarta' 'Phoenix']\n",
      "***********************************************************************\n",
      "Valores unicos de la columna state : \n",
      "    ['TX' nan 'NY' 'WA' 'CO' 'MD' 'CA' 'LA' 'GA' 'MO' 'NC' 'FL' 'MA' 'PA' 'KY'\n",
      " 'NE' 'IL' 'MN' 'TN' 'IN' 'OH' 'F2' 'NJ' 'VA' 'MI' '18' 'AR' 'AL' 'OR'\n",
      " 'DE' '17' 'ON' 'SC' 'BC' 'WI' 'AB' 'DC' 'AK' 'UT' 'OK' 'AZ' 'MS' 'CT'\n",
      " 'IA' 'V5' 'NH' 'NS']\n",
      "***********************************************************************\n",
      "Valores unicos de la columna country : \n",
      "    ['us' 'mx' 'il' 'be' 'cn' 'jp' 'gr' 'in' 'fr' 'my' 'de' 'ye' 'np' 'no'\n",
      " 'au' 'gb' 'dz' 'co' 'tw' 'br' 'ie' 'pk' 'ca' 'hk' 'nl' 'ng' 'ae' 'sg'\n",
      " 'eg' 'ir' 'es' 'nz' 'se' 'za' 'cz' 'th' 'ch' 'by' 'pe' 'fi' 'kr' 'si'\n",
      " 'ph']\n",
      "***********************************************************************\n"
     ]
    }
   ],
   "source": [
    "column_headers = list(df_meetup.columns.values)\n",
    "cont = 0\n",
    "for i in column_headers:\n",
    "    \n",
    "    a=str(i)\n",
    "    print(f'Valores unicos de la columna {a} : \\n    { df_meetup[a].unique()}')\n",
    "    print(\"***********************************************************************\")\n",
    "#df_meetup['state'].unique()"
   ]
  },
  {
   "cell_type": "markdown",
   "metadata": {},
   "source": [
    "## 1.- Identificación de datos perdidos (NaN)\n",
    "    - Bonus --> ¿Cuantas Filas se han eliminado después de la limpieza?"
   ]
  },
  {
   "cell_type": "code",
   "execution_count": null,
   "metadata": {},
   "outputs": [],
   "source": []
  },
  {
   "cell_type": "code",
   "execution_count": null,
   "metadata": {},
   "outputs": [],
   "source": []
  },
  {
   "cell_type": "code",
   "execution_count": null,
   "metadata": {},
   "outputs": [],
   "source": []
  },
  {
   "cell_type": "markdown",
   "metadata": {},
   "source": [
    "## 2.- ¿Cuantas reuniones por grupo se registraron en el DataFrame? \n",
    "    - Haga un gráfico (Pastel) de reuniones por grupo en el DataFrame"
   ]
  },
  {
   "cell_type": "markdown",
   "metadata": {},
   "source": [
    "<img src=\"./img/grupos-meetings.png\" style=\"width:250px\">"
   ]
  },
  {
   "cell_type": "code",
   "execution_count": null,
   "metadata": {},
   "outputs": [],
   "source": []
  },
  {
   "cell_type": "code",
   "execution_count": null,
   "metadata": {},
   "outputs": [],
   "source": []
  },
  {
   "cell_type": "code",
   "execution_count": null,
   "metadata": {},
   "outputs": [],
   "source": []
  },
  {
   "cell_type": "markdown",
   "metadata": {},
   "source": [
    "## 3.-  ¿Cuál es la proporción de reuniones en la ciudad Houston?"
   ]
  },
  {
   "cell_type": "markdown",
   "metadata": {},
   "source": []
  },
  {
   "cell_type": "code",
   "execution_count": null,
   "metadata": {},
   "outputs": [],
   "source": []
  },
  {
   "cell_type": "code",
   "execution_count": null,
   "metadata": {},
   "outputs": [],
   "source": []
  },
  {
   "cell_type": "markdown",
   "metadata": {},
   "source": [
    "## 4.- Cuáles son las 10 ciudades más usadas en USA para reuniones de los grupos:\n",
    "    - 'houston machine learning ' y 'houstonr'"
   ]
  },
  {
   "cell_type": "code",
   "execution_count": null,
   "metadata": {},
   "outputs": [],
   "source": []
  },
  {
   "cell_type": "code",
   "execution_count": null,
   "metadata": {},
   "outputs": [],
   "source": []
  },
  {
   "cell_type": "code",
   "execution_count": null,
   "metadata": {},
   "outputs": [],
   "source": []
  },
  {
   "cell_type": "markdown",
   "metadata": {},
   "source": [
    "## 5.- Cuáles son las ciudades más usadas para reuniones fuera del USA por:\n",
    "    -  'houston machine learning' y 'houstonr'"
   ]
  },
  {
   "cell_type": "code",
   "execution_count": null,
   "metadata": {},
   "outputs": [],
   "source": []
  },
  {
   "cell_type": "code",
   "execution_count": null,
   "metadata": {},
   "outputs": [],
   "source": []
  },
  {
   "cell_type": "code",
   "execution_count": null,
   "metadata": {},
   "outputs": [],
   "source": []
  },
  {
   "cell_type": "markdown",
   "metadata": {},
   "source": [
    "## 6.- El  grupo 'houston data visualization' cuando hace reuniones en USA:\n",
    "    - ¿Es cierto que la segunda ciudad en donde hacen más reuniones es Austin?"
   ]
  },
  {
   "cell_type": "code",
   "execution_count": null,
   "metadata": {},
   "outputs": [],
   "source": []
  },
  {
   "cell_type": "code",
   "execution_count": null,
   "metadata": {},
   "outputs": [],
   "source": []
  },
  {
   "cell_type": "code",
   "execution_count": null,
   "metadata": {},
   "outputs": [],
   "source": []
  },
  {
   "cell_type": "markdown",
   "metadata": {},
   "source": [
    "## 7.- ¿Cuál fue el mes que más reuniones tuvo el grupo 'houstonr' en el año 2016?\n",
    "\n",
    "        - Agregar columna 'month' y 'year'"
   ]
  },
  {
   "cell_type": "markdown",
   "metadata": {},
   "source": [
    "<img src=\"./img/graf02.png\">"
   ]
  },
  {
   "cell_type": "code",
   "execution_count": null,
   "metadata": {},
   "outputs": [],
   "source": []
  },
  {
   "cell_type": "code",
   "execution_count": null,
   "metadata": {},
   "outputs": [],
   "source": []
  },
  {
   "cell_type": "code",
   "execution_count": null,
   "metadata": {},
   "outputs": [],
   "source": []
  },
  {
   "cell_type": "markdown",
   "metadata": {},
   "source": [
    "## 8.- ¿Cuantas reuniones por año se registraron en el DataFrame?"
   ]
  },
  {
   "cell_type": "code",
   "execution_count": null,
   "metadata": {},
   "outputs": [],
   "source": []
  },
  {
   "cell_type": "code",
   "execution_count": null,
   "metadata": {},
   "outputs": [],
   "source": []
  },
  {
   "cell_type": "code",
   "execution_count": null,
   "metadata": {},
   "outputs": [],
   "source": []
  },
  {
   "cell_type": "markdown",
   "metadata": {},
   "source": [
    "## 9.- ¿Cuantas veces por año se han reunido los grupos ('houston data science', 'houston machine learning') fuera de USA en el dataframe?"
   ]
  },
  {
   "cell_type": "code",
   "execution_count": null,
   "metadata": {},
   "outputs": [],
   "source": []
  },
  {
   "cell_type": "code",
   "execution_count": null,
   "metadata": {},
   "outputs": [],
   "source": []
  },
  {
   "cell_type": "code",
   "execution_count": null,
   "metadata": {},
   "outputs": [],
   "source": []
  }
 ],
 "metadata": {
  "kernelspec": {
   "display_name": "Python 3.10.4 64-bit",
   "language": "python",
   "name": "python3"
  },
  "language_info": {
   "codemirror_mode": {
    "name": "ipython",
    "version": 3
   },
   "file_extension": ".py",
   "mimetype": "text/x-python",
   "name": "python",
   "nbconvert_exporter": "python",
   "pygments_lexer": "ipython3",
   "version": "3.10.4"
  },
  "vscode": {
   "interpreter": {
    "hash": "31f2aee4e71d21fbe5cf8b01ff0e069b9275f58929596ceb00d14d90e3e16cd6"
   }
  }
 },
 "nbformat": 4,
 "nbformat_minor": 2
}
