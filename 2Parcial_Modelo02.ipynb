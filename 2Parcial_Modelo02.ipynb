{
  "cells": [
    {
      "cell_type": "markdown",
      "metadata": {
        "id": "1jY1NHTHmTeE"
      },
      "source": [
        "![](https://github.com/DavidSArbelaez/Parcial_MetricasRendimiento/blob/main/img/logo.png?raw=1)"
      ]
    },
    {
      "cell_type": "markdown",
      "metadata": {
        "id": "nygdyF7smTeG"
      },
      "source": [
        "# 2do Parcial: Análisis Exploratorio de Datos. \n",
        "\n",
        "### Nombre de los Estudiantes:\n",
        "    * David Steven Arbeláez Chávez\n",
        "    * David Rodriguez\n",
        "### Cédula de Ciudadanía:  \n",
        "    * 1000 253 275\n",
        "# Objetivo:\n",
        "\n",
        "En este cuaderno se busca realizar una serie de ejercicios\n",
        "\n",
        "---\n",
        "\n",
        "Se obtiene el dataframe y las imagenes del [repositorio](https://github.com/DavidSArbelaez/Parcial_MetricasRendimiento) de github"
      ]
    },
    {
      "cell_type": "markdown",
      "metadata": {
        "id": "-zQ4YYexmTeH"
      },
      "source": [
        "# Modelo **02**\n",
        "\n",
        "### Descripción de Valores:\n",
        "\n",
        "    join_date: fecha año-mes-dia hora:minuto:segundo.\n",
        "    group: houston machine learning, houstonr, houston data science,\n",
        "           houston energy data science, houston data visualization.\n",
        "    city:  Houston, Katy, Orizaba, Spring, Cold Spring Harbor,\n",
        "           Kenmore, Sugar Land, Colorado Springs, Pearland, Austin, ....\n",
        "    state: TX, NY, WA, CO, MD, CA, LA, GA, MO, NC, FL, NH,\n",
        "           MA, PA, KY, NE, IL, MN, TN, IN, OH, F2, NJ, NS, \n",
        "           VA, MI, 18, AR, AL, OR, DE, 17, ON, SC, BC, V5,\n",
        "           WI, AB, DC, AK, UT, OK, AZ, MS, CT, IA.\n",
        "    country: us, mx, il, be, cn, jp, gr, in, fr, my, de,\n",
        "             ye, np, no, au, gb, dz, co, tw, br, ie, pk,\n",
        "             ca, hk, nl, ng, ae, sg, eg, ir, es, nz, se,\n",
        "             za, cz, th, ch, by, pe, fi, kr, si, ph.\n",
        "         \n",
        "    "
      ]
    },
    {
      "cell_type": "markdown",
      "metadata": {
        "id": "wlXeQbWlmTeI"
      },
      "source": [
        "## 0.- Bibliotecas y Lectura del dataframe"
      ]
    },
    {
      "cell_type": "code",
      "execution_count": null,
      "metadata": {
        "id": "h6FaiYk_mTeK"
      },
      "outputs": [],
      "source": [
        "import pandas as pd \n",
        "import numpy as np\n",
        "import seaborn as sns\n",
        "import matplotlib.pyplot as plt\n",
        "from pandas import get_dummies"
      ]
    },
    {
      "cell_type": "markdown",
      "metadata": {
        "id": "k8RsysHdmTeM"
      },
      "source": [
        "Se importa el data frame `meetup_groups `"
      ]
    },
    {
      "cell_type": "code",
      "execution_count": null,
      "metadata": {
        "id": "r2MtXjVQmTeM"
      },
      "outputs": [],
      "source": [
        "df_meetup = pd.read_csv(\"https://raw.githubusercontent.com/DavidSArbelaez/Parcial_MetricasRendimiento/main/data/meetup_groups.csv\")"
      ]
    },
    {
      "cell_type": "markdown",
      "metadata": {
        "id": "zH2h9qa_mTeN"
      },
      "source": [
        "## 1.- Identificación de datos perdidos (NaN)\n",
        "    - Bonus --> ¿Cuantas Filas se han eliminado después de la limpieza?"
      ]
    },
    {
      "cell_type": "markdown",
      "metadata": {
        "id": "FyXa6kX7mTeN"
      },
      "source": [
        "### **Se identifica las columnas del dataframe**"
      ]
    },
    {
      "cell_type": "code",
      "execution_count": null,
      "metadata": {
        "id": "dH2pGtnImTeO",
        "outputId": "54078395-9048-42dd-bc29-602e83bbef49",
        "colab": {
          "base_uri": "https://localhost:8080/"
        }
      },
      "outputs": [
        {
          "output_type": "stream",
          "name": "stdout",
          "text": [
            "<class 'pandas.core.frame.DataFrame'>\n",
            "RangeIndex: 7671 entries, 0 to 7670\n",
            "Data columns (total 5 columns):\n",
            " #   Column     Non-Null Count  Dtype \n",
            "---  ------     --------------  ----- \n",
            " 0   join_date  7671 non-null   object\n",
            " 1   group      7671 non-null   object\n",
            " 2   city       7671 non-null   object\n",
            " 3   state      7527 non-null   object\n",
            " 4   country    7671 non-null   object\n",
            "dtypes: object(5)\n",
            "memory usage: 299.8+ KB\n"
          ]
        }
      ],
      "source": [
        "df_meetup.info()"
      ]
    },
    {
      "cell_type": "markdown",
      "metadata": {
        "id": "Bd_wSx_9mTeP"
      },
      "source": [
        "Se suma los nulos para poder identificar cuantos hay y en que columna estan"
      ]
    },
    {
      "cell_type": "code",
      "execution_count": null,
      "metadata": {
        "id": "JS7eHfgAmTeP",
        "outputId": "026e1c7d-9e47-4fb0-f2ae-3383b41da73f",
        "colab": {
          "base_uri": "https://localhost:8080/"
        }
      },
      "outputs": [
        {
          "output_type": "execute_result",
          "data": {
            "text/plain": [
              "join_date      0\n",
              "group          0\n",
              "city           0\n",
              "state        144\n",
              "country        0\n",
              "dtype: int64"
            ]
          },
          "metadata": {},
          "execution_count": 33
        }
      ],
      "source": [
        "df_meetup.isnull().sum()"
      ]
    },
    {
      "cell_type": "markdown",
      "metadata": {
        "id": "-0po2aAZmTeQ"
      },
      "source": [
        "Tras realizar esta consulta de los datos nnulos y tras revisar la información del data frame se puede afirmar el conjunto de datos tiene **datos Perdidos** en la columna `state` cuenta que con menos datos (los cuales fueron remplazados por datos nulos) que el resto de columnas, 144 datos menos.\n",
        "\n",
        "Por lo que se va a quitar ese numero de columnas del resto de las columnas"
      ]
    },
    {
      "cell_type": "code",
      "execution_count": null,
      "metadata": {
        "id": "VQT6YSOlmTeQ",
        "outputId": "b99a04b4-9b0e-48a7-b3cb-4ffe5cf3ff3f",
        "colab": {
          "base_uri": "https://localhost:8080/"
        }
      },
      "outputs": [
        {
          "output_type": "stream",
          "name": "stdout",
          "text": [
            "<class 'pandas.core.frame.DataFrame'>\n",
            "Int64Index: 7527 entries, 0 to 7670\n",
            "Data columns (total 5 columns):\n",
            " #   Column     Non-Null Count  Dtype \n",
            "---  ------     --------------  ----- \n",
            " 0   join_date  7527 non-null   object\n",
            " 1   group      7527 non-null   object\n",
            " 2   city       7527 non-null   object\n",
            " 3   state      7527 non-null   object\n",
            " 4   country    7527 non-null   object\n",
            "dtypes: object(5)\n",
            "memory usage: 352.8+ KB\n"
          ]
        }
      ],
      "source": [
        "#Se eliminan los datos nulos\n",
        "df_meetup = df_meetup.dropna()\n",
        "\n",
        "#Se verfica la informacion\n",
        "df_meetup.info()"
      ]
    },
    {
      "cell_type": "code",
      "execution_count": null,
      "metadata": {
        "id": "OH-VgMiWmTeQ",
        "outputId": "1490e586-ea3a-42c9-b817-2c2ac2b7e877",
        "colab": {
          "base_uri": "https://localhost:8080/"
        }
      },
      "outputs": [
        {
          "output_type": "execute_result",
          "data": {
            "text/plain": [
              "join_date    0\n",
              "group        0\n",
              "city         0\n",
              "state        0\n",
              "country      0\n",
              "dtype: int64"
            ]
          },
          "metadata": {},
          "execution_count": 35
        }
      ],
      "source": [
        "#Se verifica que se hayan quitado los datos nulos\n",
        "df_meetup.isnull().sum()"
      ]
    },
    {
      "cell_type": "markdown",
      "metadata": {
        "id": "6bFzRWZgmTeR"
      },
      "source": [
        "### Bonus\n",
        "\n",
        "Se eliminaron 144 filas, debido a los datos nulos en la columna `state`"
      ]
    },
    {
      "cell_type": "markdown",
      "metadata": {
        "id": "G33zw4UumTeR"
      },
      "source": [
        "## Punto 2 al 4\n",
        "    - 2. ¿Cuantas reuniones por grupo se registraron en el DataFrame? \n",
        "    - 3. Haga un gráfico (Pastel) de reuniones por grupo en el DataFrame\n",
        "    - 4. Presente brevemente al menos 5 conclusiones del gráfico del punto 3. "
      ]
    },
    {
      "cell_type": "markdown",
      "metadata": {
        "id": "DdevRC5RmTeS"
      },
      "source": [
        "<img src=\"https://github.com/DavidSArbelaez/Parcial_MetricasRendimiento/blob/main/img/grupos-meetings.png?raw=1\" style=\"width:250px\">"
      ]
    },
    {
      "cell_type": "markdown",
      "source": [
        "### 2ndo punto"
      ],
      "metadata": {
        "id": "7LJSVVhgo4rz"
      }
    },
    {
      "cell_type": "code",
      "execution_count": null,
      "metadata": {
        "id": "5JTGWbxJmTeS",
        "outputId": "3e66d5b4-7023-4ebe-ebb3-f07fa1d6bceb",
        "colab": {
          "base_uri": "https://localhost:8080/"
        }
      },
      "outputs": [
        {
          "output_type": "execute_result",
          "data": {
            "text/plain": [
              "group\n",
              "houston data science            2150\n",
              "houston data visualization      1709\n",
              "houston energy data science     1891\n",
              "houston machine learning         740\n",
              "houstonr                        1037\n",
              "dtype: int64"
            ]
          },
          "metadata": {},
          "execution_count": 36
        }
      ],
      "source": [
        "df_meetup.groupby('group').size()"
      ]
    },
    {
      "cell_type": "markdown",
      "metadata": {
        "id": "FrEtBXazmTeT"
      },
      "source": [
        "\n",
        "\n",
        "Se identifica que hubieron estas cantidades de reuniones en el dataframe :\n",
        "- 2150 reuniones de `houston data science`\n",
        "- 1709 reuniones de `houston data visualization `\n",
        "- 1891 reuniones de `houston energy data science `\n",
        "- 740 reuniones de `houston machine learning`\n",
        "- 1037 reuniones de `houstonr`"
      ]
    },
    {
      "cell_type": "markdown",
      "source": [
        "### Tercer punto"
      ],
      "metadata": {
        "id": "Ks9WpIkmo_oR"
      }
    },
    {
      "cell_type": "code",
      "execution_count": null,
      "metadata": {
        "id": "B4IFrpyvmTeT",
        "outputId": "253a529c-637b-4ab6-a891-1b050f92b036",
        "colab": {
          "base_uri": "https://localhost:8080/",
          "height": 264
        }
      },
      "outputs": [
        {
          "output_type": "display_data",
          "data": {
            "text/plain": [
              "<Figure size 432x288 with 1 Axes>"
            ],
            "image/png": "[encoded data removed]"
          },
          "metadata": {}
        }
      ],
      "source": [
        "df_meetup.groupby('group').size().plot(y=df_meetup['group'].unique(),kind='pie',startangle=140,autopct='%1.1f%%', title='Reuniones por grupo')\n",
        "plt.show()"
      ]
    },
    {
      "cell_type": "code",
      "source": [
        "gr = df_meetup['group']\n",
        "gr_circular = df_meetup['group'].value_counts()\n",
        "\n",
        "plt.figure(figsize=(15,6))\n",
        "labels = gr_circular.keys()\n",
        "colores = [\"#EE6055\",\"#60D394\",\"#AAF683\",\"#FFD97D\",\"#FF9B85\"]\n",
        "plt.pie(gr_circular,  autopct=\"%0.1f %%\", colors=colores)\n",
        "plt.legend(labels, bbox_to_anchor =(1, 1)) #especificamos la leyenda\n",
        "plt.show()"
      ],
      "metadata": {
        "colab": {
          "base_uri": "https://localhost:8080/",
          "height": 357
        },
        "id": "jMi4q63EtZ7v",
        "outputId": "a8ecb6c0-f255-4d9b-bb58-40b91250b1fb"
      },
      "execution_count": null,
      "outputs": [
        {
          "output_type": "display_data",
          "data": {
            "text/plain": [
              "<Figure size 1080x432 with 1 Axes>"
            ],
            "image/png": "[encoded data removed]"
          },
          "metadata": {}
        }
      ]
    },
    {
      "cell_type": "markdown",
      "metadata": {
        "id": "FA3LjUYMmTeT"
      },
      "source": [
        "### Cuarto punto\n",
        "\n",
        "#Conclusiones sobre el grafico\n",
        "\n",
        "- Se realizaron mas reuniones en el grupo de `houston data science` con un 28.6% sobre el total de reuniones\n",
        "- El grupo de `houston machine learning` fue en el que se realizaron menos reuniones con un 9.8%\n",
        "- La sumatoria de todos los procentajes dan el 100%, lo que nos asegura que se realizo bien el proceso\n",
        "- Los grupos `houston energy data science` y `houston data visualization` tienen una cantidad muy parecida de datos\n",
        "- EL grupo `houstonr` tiene la cantidad casi mas pequeña de reuniones"
      ]
    },
    {
      "cell_type": "markdown",
      "source": [
        "##Quinto punto\n",
        "\n",
        "####5.- ¿Cuántas reuniones presenta el grupo `houston machine learning` en el dataset \n",
        "\n",
        "####Son 740 reuniones"
      ],
      "metadata": {
        "id": "Mzpv6_F2pS9I"
      }
    },
    {
      "cell_type": "markdown",
      "metadata": {
        "id": "frmImVismTeT"
      },
      "source": [
        "## 6.-  ¿Cuál es la proporción de reuniones en la ciudad Houston?"
      ]
    },
    {
      "cell_type": "code",
      "execution_count": null,
      "metadata": {
        "id": "SHA_e4ixmTeU",
        "outputId": "567dfaec-d257-4218-dcc1-e8400d3cd2aa",
        "colab": {
          "base_uri": "https://localhost:8080/"
        }
      },
      "outputs": [
        {
          "output_type": "display_data",
          "data": {
            "text/plain": [
              "<Figure size 432x288 with 1 Axes>"
            ],
            "image/png": "[encoded data removed]"
          },
          "metadata": {}
        }
      ],
      "source": [
        "filtro = (df_meetup['city']==\"Houston\")\n",
        "df_meetup[filtro].groupby('group').size().plot(\n",
        "    y=df_meetup['group'].unique(),kind='pie',startangle=140,autopct='%1.1f%%', \n",
        "    title='Proporción de reuniones en la ciudad Houston')\n",
        "plt.show()"
      ]
    },
    {
      "cell_type": "markdown",
      "metadata": {
        "id": "bKADpHPTmTeU"
      },
      "source": [
        "La ciudad de Houston tiene la siguiente proporción para cada grupo de reunión:\n",
        "- 1628 reuniones de `houston data science` y tiene un 29.3% del total de reuniones del dataframe\n",
        "- 1264 reuniones de `houston data visualization ` y tiene un 22.7%\n",
        "- 1320 reuniones de `houston energy data science `y tiene un 23.7%\n",
        "- 572 reuniones de `houston machine learning` y tiene un 10.3%\n",
        "- 776 reuniones de `houstonr` y tiene un 14%"
      ]
    },
    {
      "cell_type": "markdown",
      "metadata": {
        "id": "elmHzcMTmTeU"
      },
      "source": [
        "## 7.- Cuáles son las 10 ciudades más usadas en USA para reuniones de los grupos:\n",
        "    - 'houston machine learning ' y 'houstonr'"
      ]
    },
    {
      "cell_type": "code",
      "execution_count": null,
      "metadata": {
        "id": "9hPlLKe4mTeU",
        "outputId": "c91ee891-5dba-45bc-e6d5-3d6ae37e1d77",
        "colab": {
          "base_uri": "https://localhost:8080/"
        }
      },
      "outputs": [
        {
          "output_type": "execute_result",
          "data": {
            "text/plain": [
              "city\n",
              "Houston          1348\n",
              "Katy               49\n",
              "Spring             42\n",
              "Sugar Land         32\n",
              "Austin             25\n",
              "Cypress            21\n",
              "Pearland           16\n",
              "Humble             14\n",
              "League City        11\n",
              "San Francisco      11\n",
              "dtype: int64"
            ]
          },
          "metadata": {},
          "execution_count": 40
        }
      ],
      "source": [
        "filtro = ((df_meetup['group']==\"houston machine learning\") | (df_meetup['group']==\"houstonr\")) & (df_meetup['country']=='us')\n",
        "df_max=df_meetup[filtro].groupby('city').size().sort_values(ascending=False)\n",
        "df_max.head(10)"
      ]
    },
    {
      "cell_type": "markdown",
      "metadata": {
        "id": "69zrylsmmTeV"
      },
      "source": [
        "Las 10 ciudades mas usadas en USA para reuniones de los grupos `houston machine learning` y `houstonr` son:\n",
        "- `Houston` con una cantidad de **1348** reuniones\n",
        "- `Katy` con una cantidad de **49** reuniones\n",
        "- `Spring` con una cantidad de **42** reuniones\n",
        "- `Sugar Land` con una cantidad de **32** reuniones\n",
        "- `Austin` con una cantidad de **25** reuniones\n",
        "- `Cypress` con una cantidad de **21** reuniones\n",
        "- `Pearland` con una cantidad de **16** reuniones\n",
        "- `Humble` con una cantidad de **14** reuniones\n",
        "- `San Francisco` con una cantidad de **11** reuniones\n",
        "- `League City` con una cantidad de **11** reuniones"
      ]
    },
    {
      "cell_type": "markdown",
      "metadata": {
        "id": "3xzQopo0mTeV"
      },
      "source": [
        "## 8.- Cuáles son las ciudades más usadas para reuniones fuera del USA por:\n",
        "    -  'houston machine learning' y 'houstonr'"
      ]
    },
    {
      "cell_type": "code",
      "execution_count": null,
      "metadata": {
        "id": "9ET-TasamTeV",
        "outputId": "e07b398e-66f0-43cc-fe8b-dee7a8ac21fb",
        "colab": {
          "base_uri": "https://localhost:8080/"
        }
      },
      "outputs": [
        {
          "output_type": "execute_result",
          "data": {
            "text/plain": [
              "city\n",
              "London         2\n",
              "Manchester     1\n",
              "Mississauga    1\n",
              "Winchester     1\n",
              "dtype: int64"
            ]
          },
          "metadata": {},
          "execution_count": 41
        }
      ],
      "source": [
        "filtro = ((df_meetup['group']==\"houston machine learning\") | (df_meetup['group']==\"houstonr\")) & (df_meetup['country']!='us')\n",
        "df_max=df_meetup[filtro].groupby('city').size().sort_values(ascending=False)\n",
        "df_max"
      ]
    },
    {
      "cell_type": "markdown",
      "metadata": {
        "id": "D3NJqaAPmTeV"
      },
      "source": [
        "Las ciudades mas usadas por fuera de USA para reuniones de los grupos `houston machine learning` y `houstonr` son:\n",
        "- `London` con una cantidad de **2** reuniones\n",
        "- `Manchester` con una cantidad de **1** reuniones\n",
        "- `Mississauga` con una cantidad de **1** reuniones\n",
        "- `Winchester` con una cantidad de **1** reuniones"
      ]
    },
    {
      "cell_type": "markdown",
      "metadata": {
        "id": "BqA1Gt8pmTeW"
      },
      "source": [
        "## 9.- El  grupo 'houston data visualization' cuando hace reuniones en USA:\n",
        "    - ¿Es cierto que la segunda ciudad en donde hacen más reuniones es Austin?"
      ]
    },
    {
      "cell_type": "code",
      "execution_count": null,
      "metadata": {
        "id": "2DnJSD-_mTeW",
        "outputId": "61517bcb-a62a-4aea-e2e9-a8e0881ce553",
        "colab": {
          "base_uri": "https://localhost:8080/"
        }
      },
      "outputs": [
        {
          "output_type": "execute_result",
          "data": {
            "text/plain": [
              "city\n",
              "Houston        1264\n",
              "Spring           53\n",
              "Sugar Land       36\n",
              "Katy             35\n",
              "Austin           27\n",
              "               ... \n",
              "Galena Park       1\n",
              "Gainesville       1\n",
              "Franklin          1\n",
              "Fort Worth        1\n",
              "Winnetka          1\n",
              "Length: 116, dtype: int64"
            ]
          },
          "metadata": {},
          "execution_count": 42
        }
      ],
      "source": [
        "houston=df_meetup.groupby('group').size().index[1]\n",
        "filtro = ((df_meetup['group']==houston)) & (df_meetup['country']=='us')\n",
        "df_max=df_meetup[filtro].groupby('city').size().sort_values(ascending=False)\n",
        "df_max"
      ]
    },
    {
      "cell_type": "markdown",
      "metadata": {
        "id": "AKhxw8JtmTeW"
      },
      "source": [
        "La segunda ciudad que tiene mas reuniones de `houston data visualization`  es **Spring** y no **Austin**, que es la cuarta"
      ]
    },
    {
      "cell_type": "markdown",
      "source": [
        "## 10. - Agregar columna `month` y `year` \n",
        "  - Analisis exploratorio de datos agregando columna de año y mes.\n",
        "\n",
        "###Creacion de columna año y mes"
      ],
      "metadata": {
        "id": "Zx7BBEy-qSBb"
      }
    },
    {
      "cell_type": "code",
      "source": [
        "# La columna 'join_date' estaba de tipo 'object', entonces se cambia a tipo 'datatime' (fecha) para luego crear las columnas correspondientes de year y month.\n",
        "df_meetup['join_date'] = pd.to_datetime(df_meetup['join_date'])\n",
        "df_meetup.info()"
      ],
      "metadata": {
        "colab": {
          "base_uri": "https://localhost:8080/"
        },
        "id": "CoZEqwstreCc",
        "outputId": "6b647960-621b-441f-b57c-d34b1410fba6"
      },
      "execution_count": null,
      "outputs": [
        {
          "output_type": "stream",
          "name": "stdout",
          "text": [
            "<class 'pandas.core.frame.DataFrame'>\n",
            "Int64Index: 7527 entries, 0 to 7670\n",
            "Data columns (total 5 columns):\n",
            " #   Column     Non-Null Count  Dtype         \n",
            "---  ------     --------------  -----         \n",
            " 0   join_date  7527 non-null   datetime64[ns]\n",
            " 1   group      7527 non-null   object        \n",
            " 2   city       7527 non-null   object        \n",
            " 3   state      7527 non-null   object        \n",
            " 4   country    7527 non-null   object        \n",
            "dtypes: datetime64[ns](1), object(4)\n",
            "memory usage: 352.8+ KB\n"
          ]
        }
      ]
    },
    {
      "cell_type": "code",
      "source": [
        "# Se crean las columnas 'year' y 'month' con respecto a la columna 'join_date' con las funciones de la libreria 'datetime' \n",
        "list_date = df_meetup['join_date']\n",
        "df_meetup['year'] =  df_meetup['join_date'].dt.year\n",
        "df_meetup['month'] = df_meetup['join_date'].dt.month \n",
        "df_meetup.head()"
      ],
      "metadata": {
        "colab": {
          "base_uri": "https://localhost:8080/"
        },
        "id": "GrcOc-CZr9JD",
        "outputId": "2919708b-6e36-4b27-dcec-fe2bb59ba860"
      },
      "execution_count": null,
      "outputs": [
        {
          "output_type": "execute_result",
          "data": {
            "text/plain": [
              "            join_date                     group     city state country  year  \\\n",
              "0 2016-11-18 02:41:29  houston machine learning  Houston    TX      us  2016   \n",
              "1 2017-05-09 14:16:37  houston machine learning  Houston    TX      us  2017   \n",
              "2 2016-12-30 02:34:16  houston machine learning  Houston    TX      us  2016   \n",
              "3 2016-07-18 00:48:17  houston machine learning  Houston    TX      us  2016   \n",
              "4 2017-05-25 12:58:16  houston machine learning  Houston    TX      us  2017   \n",
              "\n",
              "   month  \n",
              "0     11  \n",
              "1      5  \n",
              "2     12  \n",
              "3      7  \n",
              "4      5  "
            ],
            "text/html": [
              "\n",
              "  <div id=\"df-ec0c15de-fba8-4e9f-a475-dca7556d58aa\">\n",
              "    <div class=\"colab-df-container\">\n",
              "      <div>\n",
              "<style scoped>\n",
              "    .dataframe tbody tr th:only-of-type {\n",
              "        vertical-align: middle;\n",
              "    }\n",
              "\n",
              "    .dataframe tbody tr th {\n",
              "        vertical-align: top;\n",
              "    }\n",
              "\n",
              "    .dataframe thead th {\n",
              "        text-align: right;\n",
              "    }\n",
              "</style>\n",
              "<table border=\"1\" class=\"dataframe\">\n",
              "  <thead>\n",
              "    <tr style=\"text-align: right;\">\n",
              "      <th></th>\n",
              "      <th>join_date</th>\n",
              "      <th>group</th>\n",
              "      <th>city</th>\n",
              "      <th>state</th>\n",
              "      <th>country</th>\n",
              "      <th>year</th>\n",
              "      <th>month</th>\n",
              "    </tr>\n",
              "  </thead>\n",
              "  <tbody>\n",
              "    <tr>\n",
              "      <th>0</th>\n",
              "      <td>2016-11-18 02:41:29</td>\n",
              "      <td>houston machine learning</td>\n",
              "      <td>Houston</td>\n",
              "      <td>TX</td>\n",
              "      <td>us</td>\n",
              "      <td>2016</td>\n",
              "      <td>11</td>\n",
              "    </tr>\n",
              "    <tr>\n",
              "      <th>1</th>\n",
              "      <td>2017-05-09 14:16:37</td>\n",
              "      <td>houston machine learning</td>\n",
              "      <td>Houston</td>\n",
              "      <td>TX</td>\n",
              "      <td>us</td>\n",
              "      <td>2017</td>\n",
              "      <td>5</td>\n",
              "    </tr>\n",
              "    <tr>\n",
              "      <th>2</th>\n",
              "      <td>2016-12-30 02:34:16</td>\n",
              "      <td>houston machine learning</td>\n",
              "      <td>Houston</td>\n",
              "      <td>TX</td>\n",
              "      <td>us</td>\n",
              "      <td>2016</td>\n",
              "      <td>12</td>\n",
              "    </tr>\n",
              "    <tr>\n",
              "      <th>3</th>\n",
              "      <td>2016-07-18 00:48:17</td>\n",
              "      <td>houston machine learning</td>\n",
              "      <td>Houston</td>\n",
              "      <td>TX</td>\n",
              "      <td>us</td>\n",
              "      <td>2016</td>\n",
              "      <td>7</td>\n",
              "    </tr>\n",
              "    <tr>\n",
              "      <th>4</th>\n",
              "      <td>2017-05-25 12:58:16</td>\n",
              "      <td>houston machine learning</td>\n",
              "      <td>Houston</td>\n",
              "      <td>TX</td>\n",
              "      <td>us</td>\n",
              "      <td>2017</td>\n",
              "      <td>5</td>\n",
              "    </tr>\n",
              "  </tbody>\n",
              "</table>\n",
              "</div>\n",
              "      <button class=\"colab-df-convert\" onclick=\"convertToInteractive('df-ec0c15de-fba8-4e9f-a475-dca7556d58aa')\"\n",
              "              title=\"Convert this dataframe to an interactive table.\"\n",
              "              style=\"display:none;\">\n",
              "        \n",
              "  <svg xmlns=\"http://www.w3.org/2000/svg\" height=\"24px\"viewBox=\"0 0 24 24\"\n",
              "       width=\"24px\">\n",
              "    <path d=\"M0 0h24v24H0V0z\" fill=\"none\"/>\n",
              "    <path d=\"M18.56 5.44l.94 2.06.94-2.06 2.06-.94-2.06-.94-.94-2.06-.94 2.06-2.06.94zm-11 1L8.5 8.5l.94-2.06 2.06-.94-2.06-.94L8.5 2.5l-.94 2.06-2.06.94zm10 10l.94 2.06.94-2.06 2.06-.94-2.06-.94-.94-2.06-.94 2.06-2.06.94z\"/><path d=\"M17.41 7.96l-1.37-1.37c-.4-.4-.92-.59-1.43-.59-.52 0-1.04.2-1.43.59L10.3 9.45l-7.72 7.72c-.78.78-.78 2.05 0 2.83L4 21.41c.39.39.9.59 1.41.59.51 0 1.02-.2 1.41-.59l7.78-7.78 2.81-2.81c.8-.78.8-2.07 0-2.86zM5.41 20L4 18.59l7.72-7.72 1.47 1.35L5.41 20z\"/>\n",
              "  </svg>\n",
              "      </button>\n",
              "      \n",
              "  <style>\n",
              "    .colab-df-container {\n",
              "      display:flex;\n",
              "      flex-wrap:wrap;\n",
              "      gap: 12px;\n",
              "    }\n",
              "\n",
              "    .colab-df-convert {\n",
              "      background-color: #E8F0FE;\n",
              "      border: none;\n",
              "      border-radius: 50%;\n",
              "      cursor: pointer;\n",
              "      display: none;\n",
              "      fill: #1967D2;\n",
              "      height: 32px;\n",
              "      padding: 0 0 0 0;\n",
              "      width: 32px;\n",
              "    }\n",
              "\n",
              "    .colab-df-convert:hover {\n",
              "      background-color: #E2EBFA;\n",
              "      box-shadow: 0px 1px 2px rgba(60, 64, 67, 0.3), 0px 1px 3px 1px rgba(60, 64, 67, 0.15);\n",
              "      fill: #174EA6;\n",
              "    }\n",
              "\n",
              "    [theme=dark] .colab-df-convert {\n",
              "      background-color: #3B4455;\n",
              "      fill: #D2E3FC;\n",
              "    }\n",
              "\n",
              "    [theme=dark] .colab-df-convert:hover {\n",
              "      background-color: #434B5C;\n",
              "      box-shadow: 0px 1px 3px 1px rgba(0, 0, 0, 0.15);\n",
              "      filter: drop-shadow(0px 1px 2px rgba(0, 0, 0, 0.3));\n",
              "      fill: #FFFFFF;\n",
              "    }\n",
              "  </style>\n",
              "\n",
              "      <script>\n",
              "        const buttonEl =\n",
              "          document.querySelector('#df-ec0c15de-fba8-4e9f-a475-dca7556d58aa button.colab-df-convert');\n",
              "        buttonEl.style.display =\n",
              "          google.colab.kernel.accessAllowed ? 'block' : 'none';\n",
              "\n",
              "        async function convertToInteractive(key) {\n",
              "          const element = document.querySelector('#df-ec0c15de-fba8-4e9f-a475-dca7556d58aa');\n",
              "          const dataTable =\n",
              "            await google.colab.kernel.invokeFunction('convertToInteractive',\n",
              "                                                     [key], {});\n",
              "          if (!dataTable) return;\n",
              "\n",
              "          const docLinkHtml = 'Like what you see? Visit the ' +\n",
              "            '<a target=\"_blank\" href=https://colab.research.google.com/notebooks/data_table.ipynb>data table notebook</a>'\n",
              "            + ' to learn more about interactive tables.';\n",
              "          element.innerHTML = '';\n",
              "          dataTable['output_type'] = 'display_data';\n",
              "          await google.colab.output.renderOutput(dataTable, element);\n",
              "          const docLink = document.createElement('div');\n",
              "          docLink.innerHTML = docLinkHtml;\n",
              "          element.appendChild(docLink);\n",
              "        }\n",
              "      </script>\n",
              "    </div>\n",
              "  </div>\n",
              "  "
            ]
          },
          "metadata": {},
          "execution_count": 44
        }
      ]
    },
    {
      "cell_type": "markdown",
      "metadata": {
        "id": "vMRND9QEmTeW"
      },
      "source": [
        "## 11.- ¿Cuál fue el mes que más reuniones tuvo el grupo 'houstonr' en el año 2016?"
      ]
    },
    {
      "cell_type": "markdown",
      "metadata": {
        "id": "mhK3yU3UmTeX"
      },
      "source": [
        "<img src=\"https://github.com/DavidSArbelaez/Parcial_MetricasRendimiento/blob/main/img/graf02.png?raw=1\">"
      ]
    },
    {
      "cell_type": "code",
      "execution_count": null,
      "metadata": {
        "id": "kYqK44VpmTeX",
        "colab": {
          "base_uri": "https://localhost:8080/"
        },
        "outputId": "3db8e5a4-7b6b-4b5c-9143-ff220264fb07"
      },
      "outputs": [
        {
          "output_type": "execute_result",
          "data": {
            "text/plain": [
              "month\n",
              "1     30\n",
              "2     43\n",
              "3     29\n",
              "4     21\n",
              "5     21\n",
              "6     29\n",
              "7     15\n",
              "8     28\n",
              "9     28\n",
              "10    84\n",
              "11    32\n",
              "12    17\n",
              "dtype: int64"
            ]
          },
          "metadata": {},
          "execution_count": 45
        }
      ],
      "source": [
        "# Se establece un filtro para saber cual fue el mes que tuvo mas reuniones el grupo 'houstonr' en el año 2016.\n",
        "# Con el metodo groupby se retorna el mes y el numero de reuniones que hubo en ese año. \n",
        "filtro = ((df_meetup['group']==\"houstonr\") & (df_meetup['year']==2016))\n",
        "df_meetup[filtro].groupby('month').size()"
      ]
    },
    {
      "cell_type": "markdown",
      "source": [
        "Con base a los datos, se concluye que en el año 2016 el grupo 'houstonr' registró  mayor numero de reuniones en el mes de octubre con respecto a los otros meses."
      ],
      "metadata": {
        "id": "fwR3ApoisKAq"
      }
    },
    {
      "cell_type": "markdown",
      "metadata": {
        "id": "PXIV332BmTeX"
      },
      "source": [
        "## 12.- ¿Cuantas reuniones por año se registraron en el DataFrame?"
      ]
    },
    {
      "cell_type": "code",
      "execution_count": null,
      "metadata": {
        "id": "UEK6oSQGmTeX",
        "colab": {
          "base_uri": "https://localhost:8080/"
        },
        "outputId": "dcb808c9-520a-4b43-b291-11cfb7f645f0"
      },
      "outputs": [
        {
          "output_type": "execute_result",
          "data": {
            "text/plain": [
              "year\n",
              "2010      19\n",
              "2011      29\n",
              "2012      44\n",
              "2013      78\n",
              "2014     349\n",
              "2015    1310\n",
              "2016    2679\n",
              "2017    3019\n",
              "dtype: int64"
            ]
          },
          "metadata": {},
          "execution_count": 46
        }
      ],
      "source": [
        "# Reuniones por año segun el dataframe\n",
        "df_meetup.groupby('year').size()"
      ]
    },
    {
      "cell_type": "markdown",
      "metadata": {
        "id": "r3zKNWIcmTeY"
      },
      "source": [
        "## 13.- ¿Cuantas veces por año se han reunido los grupos ('houston data science', 'houston machine learning') fuera de USA en el dataframe?"
      ]
    },
    {
      "cell_type": "code",
      "execution_count": null,
      "metadata": {
        "id": "5-eE6mHcmTeY",
        "colab": {
          "base_uri": "https://localhost:8080/"
        },
        "outputId": "c8d55333-e946-47ca-cbd4-6845ee1e747f"
      },
      "outputs": [
        {
          "output_type": "execute_result",
          "data": {
            "text/plain": [
              "year\n",
              "2012       1\n",
              "2014       2\n",
              "2015       4\n",
              "2016    1095\n",
              "2017    1811\n",
              "dtype: int64"
            ]
          },
          "metadata": {},
          "execution_count": 47
        }
      ],
      "source": [
        "filtro = ((df_meetup['group']==\"houston machine learning\") | (df_meetup['group']==\"houston data science\") | (df_meetup['country']!=\"us\"))\n",
        "df_meetup[filtro].groupby('year').size()"
      ]
    },
    {
      "cell_type": "markdown",
      "source": [
        "##14.- ¿Cuales son los países en los que se hace reunión los grupos? "
      ],
      "metadata": {
        "id": "St8SXoHlsqVH"
      }
    },
    {
      "cell_type": "code",
      "source": [
        "# Para saber cual es el nombre de los paises en los que hubo reuniones se utiliza el metodo unique(). \n",
        "df_meetup['country'].unique()"
      ],
      "metadata": {
        "colab": {
          "base_uri": "https://localhost:8080/"
        },
        "id": "qa5fcWThstCH",
        "outputId": "e9716831-c271-405a-eb53-5d95c8bb6d8d"
      },
      "execution_count": null,
      "outputs": [
        {
          "output_type": "execute_result",
          "data": {
            "text/plain": [
              "array(['us', 'gb', 'ca'], dtype=object)"
            ]
          },
          "metadata": {},
          "execution_count": 48
        }
      ]
    },
    {
      "cell_type": "markdown",
      "source": [
        "Se concluyé que debido a que se eliminaron los valores nulos del dataframe, la mayoria de paises que estaban inicialmente en el dataset desaparecieron. Por esto se entiende que los paises en los que mas hubo reuniones fueron 'us' (Estados Unidos), 'gb' (Gran Bretaña) y 'ca' (canada)."
      ],
      "metadata": {
        "id": "TL1LGGfCsyLr"
      }
    },
    {
      "cell_type": "markdown",
      "source": [
        "##15.-¿Cuál es el promedio, desviación, el valor máximo y mínimo en el dataset?"
      ],
      "metadata": {
        "id": "wQz7OErvsylr"
      }
    },
    {
      "cell_type": "code",
      "source": [
        "df_meetup.describe()"
      ],
      "metadata": {
        "colab": {
          "base_uri": "https://localhost:8080/",
          "height": 300
        },
        "id": "g918gqDJs0-I",
        "outputId": "b732a16a-7b40-4cf2-c9b7-166283d8b31c"
      },
      "execution_count": null,
      "outputs": [
        {
          "output_type": "execute_result",
          "data": {
            "text/plain": [
              "              year        month\n",
              "count  7527.000000  7527.000000\n",
              "mean   2016.045436     6.438820\n",
              "std       1.064269     3.180995\n",
              "min    2010.000000     1.000000\n",
              "25%    2016.000000     4.000000\n",
              "50%    2016.000000     7.000000\n",
              "75%    2017.000000     9.000000\n",
              "max    2017.000000    12.000000"
            ],
            "text/html": [
              "\n",
              "  <div id=\"df-1457378b-0dc9-4650-b15c-ad4ba60dea14\">\n",
              "    <div class=\"colab-df-container\">\n",
              "      <div>\n",
              "<style scoped>\n",
              "    .dataframe tbody tr th:only-of-type {\n",
              "        vertical-align: middle;\n",
              "    }\n",
              "\n",
              "    .dataframe tbody tr th {\n",
              "        vertical-align: top;\n",
              "    }\n",
              "\n",
              "    .dataframe thead th {\n",
              "        text-align: right;\n",
              "    }\n",
              "</style>\n",
              "<table border=\"1\" class=\"dataframe\">\n",
              "  <thead>\n",
              "    <tr style=\"text-align: right;\">\n",
              "      <th></th>\n",
              "      <th>year</th>\n",
              "      <th>month</th>\n",
              "    </tr>\n",
              "  </thead>\n",
              "  <tbody>\n",
              "    <tr>\n",
              "      <th>count</th>\n",
              "      <td>7527.000000</td>\n",
              "      <td>7527.000000</td>\n",
              "    </tr>\n",
              "    <tr>\n",
              "      <th>mean</th>\n",
              "      <td>2016.045436</td>\n",
              "      <td>6.438820</td>\n",
              "    </tr>\n",
              "    <tr>\n",
              "      <th>std</th>\n",
              "      <td>1.064269</td>\n",
              "      <td>3.180995</td>\n",
              "    </tr>\n",
              "    <tr>\n",
              "      <th>min</th>\n",
              "      <td>2010.000000</td>\n",
              "      <td>1.000000</td>\n",
              "    </tr>\n",
              "    <tr>\n",
              "      <th>25%</th>\n",
              "      <td>2016.000000</td>\n",
              "      <td>4.000000</td>\n",
              "    </tr>\n",
              "    <tr>\n",
              "      <th>50%</th>\n",
              "      <td>2016.000000</td>\n",
              "      <td>7.000000</td>\n",
              "    </tr>\n",
              "    <tr>\n",
              "      <th>75%</th>\n",
              "      <td>2017.000000</td>\n",
              "      <td>9.000000</td>\n",
              "    </tr>\n",
              "    <tr>\n",
              "      <th>max</th>\n",
              "      <td>2017.000000</td>\n",
              "      <td>12.000000</td>\n",
              "    </tr>\n",
              "  </tbody>\n",
              "</table>\n",
              "</div>\n",
              "      <button class=\"colab-df-convert\" onclick=\"convertToInteractive('df-1457378b-0dc9-4650-b15c-ad4ba60dea14')\"\n",
              "              title=\"Convert this dataframe to an interactive table.\"\n",
              "              style=\"display:none;\">\n",
              "        \n",
              "  <svg xmlns=\"http://www.w3.org/2000/svg\" height=\"24px\"viewBox=\"0 0 24 24\"\n",
              "       width=\"24px\">\n",
              "    <path d=\"M0 0h24v24H0V0z\" fill=\"none\"/>\n",
              "    <path d=\"M18.56 5.44l.94 2.06.94-2.06 2.06-.94-2.06-.94-.94-2.06-.94 2.06-2.06.94zm-11 1L8.5 8.5l.94-2.06 2.06-.94-2.06-.94L8.5 2.5l-.94 2.06-2.06.94zm10 10l.94 2.06.94-2.06 2.06-.94-2.06-.94-.94-2.06-.94 2.06-2.06.94z\"/><path d=\"M17.41 7.96l-1.37-1.37c-.4-.4-.92-.59-1.43-.59-.52 0-1.04.2-1.43.59L10.3 9.45l-7.72 7.72c-.78.78-.78 2.05 0 2.83L4 21.41c.39.39.9.59 1.41.59.51 0 1.02-.2 1.41-.59l7.78-7.78 2.81-2.81c.8-.78.8-2.07 0-2.86zM5.41 20L4 18.59l7.72-7.72 1.47 1.35L5.41 20z\"/>\n",
              "  </svg>\n",
              "      </button>\n",
              "      \n",
              "  <style>\n",
              "    .colab-df-container {\n",
              "      display:flex;\n",
              "      flex-wrap:wrap;\n",
              "      gap: 12px;\n",
              "    }\n",
              "\n",
              "    .colab-df-convert {\n",
              "      background-color: #E8F0FE;\n",
              "      border: none;\n",
              "      border-radius: 50%;\n",
              "      cursor: pointer;\n",
              "      display: none;\n",
              "      fill: #1967D2;\n",
              "      height: 32px;\n",
              "      padding: 0 0 0 0;\n",
              "      width: 32px;\n",
              "    }\n",
              "\n",
              "    .colab-df-convert:hover {\n",
              "      background-color: #E2EBFA;\n",
              "      box-shadow: 0px 1px 2px rgba(60, 64, 67, 0.3), 0px 1px 3px 1px rgba(60, 64, 67, 0.15);\n",
              "      fill: #174EA6;\n",
              "    }\n",
              "\n",
              "    [theme=dark] .colab-df-convert {\n",
              "      background-color: #3B4455;\n",
              "      fill: #D2E3FC;\n",
              "    }\n",
              "\n",
              "    [theme=dark] .colab-df-convert:hover {\n",
              "      background-color: #434B5C;\n",
              "      box-shadow: 0px 1px 3px 1px rgba(0, 0, 0, 0.15);\n",
              "      filter: drop-shadow(0px 1px 2px rgba(0, 0, 0, 0.3));\n",
              "      fill: #FFFFFF;\n",
              "    }\n",
              "  </style>\n",
              "\n",
              "      <script>\n",
              "        const buttonEl =\n",
              "          document.querySelector('#df-1457378b-0dc9-4650-b15c-ad4ba60dea14 button.colab-df-convert');\n",
              "        buttonEl.style.display =\n",
              "          google.colab.kernel.accessAllowed ? 'block' : 'none';\n",
              "\n",
              "        async function convertToInteractive(key) {\n",
              "          const element = document.querySelector('#df-1457378b-0dc9-4650-b15c-ad4ba60dea14');\n",
              "          const dataTable =\n",
              "            await google.colab.kernel.invokeFunction('convertToInteractive',\n",
              "                                                     [key], {});\n",
              "          if (!dataTable) return;\n",
              "\n",
              "          const docLinkHtml = 'Like what you see? Visit the ' +\n",
              "            '<a target=\"_blank\" href=https://colab.research.google.com/notebooks/data_table.ipynb>data table notebook</a>'\n",
              "            + ' to learn more about interactive tables.';\n",
              "          element.innerHTML = '';\n",
              "          dataTable['output_type'] = 'display_data';\n",
              "          await google.colab.output.renderOutput(dataTable, element);\n",
              "          const docLink = document.createElement('div');\n",
              "          docLink.innerHTML = docLinkHtml;\n",
              "          element.appendChild(docLink);\n",
              "        }\n",
              "      </script>\n",
              "    </div>\n",
              "  </div>\n",
              "  "
            ]
          },
          "metadata": {},
          "execution_count": 49
        }
      ]
    },
    {
      "cell_type": "markdown",
      "source": [],
      "metadata": {
        "id": "3s5YCrNQ8nNc"
      }
    },
    {
      "cell_type": "markdown",
      "source": [
        "* Se obtiene que el promedio de reuniones por año y mes fue de 2016.045 y 6.43 respectivamente.  \n",
        "\n",
        "* Relativamente se obtiene una baja desviacion estandar, por año es de 1.06 y por mes es de 3.18. Esto hace referencia que la mayor parte de los datos (reuniones) siempre estuvieron agrupados cerca de su media."
      ],
      "metadata": {
        "id": "qNE73PiZs9P7"
      }
    },
    {
      "cell_type": "markdown",
      "source": [
        "##Conclusiones\n",
        "\n",
        "* Se presento un data set para realizar un **EDA** y unas consultas sobre ese mimsmo dataframe.\n",
        "* Se encontraron datos nulos en la columna `state` y se eliminaron las filas que rados en el pais contuvieran esos datos nulos.\n",
        "* Se establecio que habian 5 grupos distintos en el dataframe.\n",
        "* Todas las columnas del dataframe tienen datos categoricos menos la columna `join-date`\n",
        "* Se agrego la columna `Year`y `month`para poder realizar un analisis temporal del dataframe\n",
        "* Se obtiene que el promedio de reuniones por año y mes fue de 2016.045 y 6.43 respectivamente.  \n",
        "* Se concluyé que debido a que se eliminaron los valores nulos del dataframe, la mayoria de paises que estaban inicialmente en el dataset desaparecieron. Por esto se entiende que los paises en los que mas hubo reuniones fueron 'us' (Estados Unidos), 'gb' (Gran Bretaña) y 'ca' (canada).\n"
      ],
      "metadata": {
        "id": "7YdAr0XwtD4r"
      }
    }
  ],
  "metadata": {
    "kernelspec": {
      "display_name": "Python 3.10.4 64-bit",
      "language": "python",
      "name": "python3"
    },
    "language_info": {
      "codemirror_mode": {
        "name": "ipython",
        "version": 3
      },
      "file_extension": ".py",
      "mimetype": "text/x-python",
      "name": "python",
      "nbconvert_exporter": "python",
      "pygments_lexer": "ipython3",
      "version": "3.10.4"
    },
    "vscode": {
      "interpreter": {
        "hash": "31f2aee4e71d21fbe5cf8b01ff0e069b9275f58929596ceb00d14d90e3e16cd6"
      }
    },
    "colab": {
      "provenance": [],
      "toc_visible": true,
      "collapsed_sections": [
        "zH2h9qa_mTeN",
        "frmImVismTeT",
        "elmHzcMTmTeU",
        "3xzQopo0mTeV",
        "Zx7BBEy-qSBb",
        "r3zKNWIcmTeY"
      ]
    }
  },
  "nbformat": 4,
  "nbformat_minor": 0
}